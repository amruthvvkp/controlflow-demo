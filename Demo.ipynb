{
 "cells": [
  {
   "cell_type": "markdown",
   "metadata": {},
   "source": [
    "Connected to .venv (Python 3.13.2)"
   ]
  },
  {
   "cell_type": "markdown",
   "metadata": {},
   "source": [
    "Load all environment variables from .env file"
   ]
  },
  {
   "cell_type": "code",
   "execution_count": 2,
   "metadata": {},
   "outputs": [],
   "source": [
    "%load_ext dotenv\n",
    "%dotenv"
   ]
  },
  {
   "cell_type": "markdown",
   "metadata": {},
   "source": [
    "Controlflow needs Prefect server. Prefect needs sqlite to be installed."
   ]
  },
  {
   "cell_type": "code",
   "execution_count": 26,
   "metadata": {},
   "outputs": [
    {
     "name": "stdout",
     "output_type": "stream",
     "text": [
      "Prefect API is accessible!\n"
     ]
    }
   ],
   "source": [
    "# Verify Prefect API is accessible\n",
    "import httpx\n",
    "\n",
    "try:\n",
    "    response = httpx.get(\"http://localhost:4200/api/health\")\n",
    "    response.raise_for_status()\n",
    "    print(\"Prefect API is accessible!\")\n",
    "except httpx.HTTPStatusError as e:\n",
    "    print(f\"Prefect API is not accessible: {e}\")"
   ]
  },
  {
   "cell_type": "code",
   "execution_count": 24,
   "metadata": {},
   "outputs": [],
   "source": [
    "emails: list[str] = [\n",
    "    \"Hello, I need an update on the project status.\",\n",
    "    \"Subject: Exclusive offer just for you!\",\n",
    "    \"Urgent: Project deadline moved up by one week.\",\n",
    "]"
   ]
  },
  {
   "cell_type": "code",
   "execution_count": null,
   "metadata": {},
   "outputs": [],
   "source": [
    "import controlflow as cf\n",
    "\n",
    "# Create a ControlFlow task to generate an reply\n",
    "reply = cf.run(\n",
    "    \"Write a polite reply to an email\",\n",
    "    context=dict(email=emails[0]),\n",
    ")\n",
    "\n",
    "print(reply)"
   ]
  },
  {
   "cell_type": "code",
   "execution_count": null,
   "metadata": {},
   "outputs": [],
   "source": [
    "import controlflow as cf\n",
    "\n",
    "\n",
    "# Create agents\n",
    "classifier = cf.Agent(\n",
    "    name=\"Email Classifier\",\n",
    "    model=\"openai/gpt-4o-mini\",\n",
    "    instructions=\"You are an expert at quickly classifying emails. Always \"\n",
    "                 \"respond with exactly one word: either 'important' or 'spam'.\"\n",
    ")\n",
    "\n",
    "responder = cf.Agent(\n",
    "    name=\"Email Responder\",\n",
    "    model=\"openai/gpt-4o\",\n",
    "    instructions=\"You are an expert at crafting professional email responses. \"\n",
    "                 \"Your replies should be concise but friendly.\"\n",
    ")\n",
    "\n",
    "\n",
    "# Create the flow\n",
    "@cf.flow\n",
    "def process_email(email_content: str):\n",
    "\n",
    "    # Classify the email\n",
    "    category = cf.run(\n",
    "        f\"Classify this email\",\n",
    "        result_type=[\"important\", \"spam\"],\n",
    "        agents=[classifier],\n",
    "        context=dict(email=email_content),\n",
    "    )\n",
    "\n",
    "    # If the email is important, write a response\n",
    "    if category == \"important\":\n",
    "        response = cf.run(\n",
    "            f\"Write a response to this important email\",\n",
    "            result_type=str,\n",
    "            agents=[responder],\n",
    "            context=dict(email=email_content),\n",
    "        )\n",
    "        return response\n",
    "\n",
    "    # Otherwise, no response is needed\n",
    "    else:\n",
    "        print(\"No response needed for spam email.\")\n",
    "\n",
    "\n",
    "# Run the flow on each email\n",
    "for email in emails:\n",
    "    response = process_email(email)\n",
    "    print(response)"
   ]
  },
  {
   "cell_type": "code",
   "execution_count": null,
   "metadata": {},
   "outputs": [],
   "source": []
  }
 ],
 "metadata": {
  "kernelspec": {
   "display_name": ".venv",
   "language": "python",
   "name": "python3"
  },
  "language_info": {
   "codemirror_mode": {
    "name": "ipython",
    "version": 3
   },
   "file_extension": ".py",
   "mimetype": "text/x-python",
   "name": "python",
   "nbconvert_exporter": "python",
   "pygments_lexer": "ipython3",
   "version": "3.13.2"
  }
 },
 "nbformat": 4,
 "nbformat_minor": 2
}
